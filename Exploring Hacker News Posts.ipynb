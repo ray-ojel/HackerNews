{
 "cells": [
  {
   "cell_type": "markdown",
   "metadata": {},
   "source": [
    "# Exploring Hacker News Posts \n",
    "\n",
    "* Hacker News is a site started by the startup incubator Y Combinator, where user-submitted stories (known as \"posts\") are voted and commented upon, similar to reddit. Hacker News is extremely popular in technology and startup circles, and posts that make it to the top of Hacker News' listings can get hundreds of thousands of visitors as a result.\n",
    "\n",
    "Below are descriptions of the columns: \n",
    "1. id: The unique identifier from Hacker News for the post\n",
    "2. title: The title of the post\n",
    "3. url: The URL that the posts links to, if it the post has a URL\n",
    "4. num_points: The number of points the post acquired, calculated as the 5. 5. total number of upvotes minus the total number of downvotes\n",
    "6. num_comments: The number of comments that were made on the post\n",
    "7. author: The username of the person who submitted the post\n",
    "8. created_at: The date and time at which the post was submitted\n",
    "\n",
    "* We're specifically interested in posts whose titles begin with either Ask HN or Show HN. Users submit Ask HN posts to ask the Hacker News community a specific question. Below are a couple examples:\n",
    "\n",
    "\"Ask HN: How to improve my personal website?\"\n",
    "\n",
    "\"Show HN: Something pointless I made\"\n",
    "\n",
    "\n",
    "My analysis revolves around answering two questions:\n",
    "\n",
    "1. Do Ask HN or Show HN receive more comments on average?\n",
    "2. Do posts created at a certain time receive more comments on average?\n"
   ]
  },
  {
   "cell_type": "markdown",
   "metadata": {},
   "source": [
    "We start by importing the reader from the csv module in order to read our list and convert it to a list of lists without the header row for easier analysis"
   ]
  },
  {
   "cell_type": "code",
   "execution_count": null,
   "metadata": {
    "collapsed": false
   },
   "outputs": [],
   "source": [
    "from csv import reader\n",
    "opened_file = open('hacker_news.csv', encoding=\"utf8\")\n",
    "read_file = reader(opened_file)\n",
    "list_file = list(read_file)\n",
    "hn = list_file[1:]\n",
    "headers = list_file[0]\n",
    "print (headers)\n",
    "print (len(hn))"
   ]
  },
  {
   "cell_type": "markdown",
   "metadata": {},
   "source": [
    "Now we want to separate the lists that begin with Ask HN, Show HN and Others. TO do that, we first create the new lists, then we loop through the hacker news list of lists and for every iteration we:\n",
    "1. assign post row to post variable \n",
    "2. make it all lower case so it eliminates capilization errors\n",
    "3. if post starts with Ask HN append ask list\n",
    "4. else if post starts with Show HN apend show list\n",
    "5. else append other list \n",
    "\n",
    "Now we have our three lists, we see how long they are to compare the volume of posts for each type"
   ]
  },
  {
   "cell_type": "code",
   "execution_count": null,
   "metadata": {
    "collapsed": false
   },
   "outputs": [],
   "source": [
    "ask_posts = []\n",
    "show_posts = []\n",
    "other_posts = []\n",
    "\n",
    "for every_row in hn:\n",
    "    post = every_row [1]\n",
    "    post = post.lower()\n",
    "    if post.startswith('ask hn'):\n",
    "        ask_posts.append(every_row)\n",
    "    elif post.startswith('show hn'):\n",
    "        show_posts.append(every_row)\n",
    "    else: \n",
    "        other_posts.append(every_row)\n",
    "        \n",
    "print ('There are {} posts that start with Ask HN.'.format(len(ask_posts)))\n",
    "print ('\\n')\n",
    "print ('There are {} posts that start with Show HN.'.format(len(show_posts)))\n",
    "print ('\\n')\n",
    "print ('There are {} other posts.'.format(len(other_posts)))"
   ]
  },
  {
   "cell_type": "markdown",
   "metadata": {},
   "source": [
    "Now we want to see the average number of comments per post type to see which one gets more comments. \n",
    "Start by making a variable total ask comments and setting it equal to 0 \n",
    "iterate over the ask_posts list and for every iteration we assign the number of ask comments to the interger of the row at index 4. \n"
   ]
  },
  {
   "cell_type": "code",
   "execution_count": null,
   "metadata": {
    "collapsed": false
   },
   "outputs": [],
   "source": [
    "total_ask_comments = 0\n",
    "total_show_comments = 0\n",
    "\n",
    "for every_row in ask_posts:\n",
    "    num_ask_comments = int(every_row[4])\n",
    "    total_ask_comments += num_ask_comments \n",
    "    \n",
    "for every_row in show_posts:\n",
    "    num_show_comments = int(every_row[4])\n",
    "    total_show_comments += num_show_comments \n",
    "    \n",
    "avg_ask_comments = round(total_ask_comments / len(ask_posts), 2)\n",
    "avg_show_comments = round(total_show_comments / len(show_posts), 2)\n",
    "\n",
    "print ('Ask HN posts have an average of {} comments per post.'.format(avg_ask_comments))\n",
    "print ('Show HN posts have an average of {} comments per post.'.format(avg_show_comments))"
   ]
  },
  {
   "cell_type": "markdown",
   "metadata": {},
   "source": [
    "As you can see, the Ask HN posts recieve on average 4 more comments than the show HN posts.\n",
    "For that reason, we will only deal with Ask posts in our analysis. \n",
    "Next, we're going to see which time gets the most comments. \n",
    "1. Calculate the amount of ask posts created in each hour of the day, along with the number of comments recieved .\n",
    "2. calculate the average number of comments ask posts recieve by hour created."
   ]
  },
  {
   "cell_type": "markdown",
   "metadata": {},
   "source": [
    "So first we import the datetime module as dt for easier use\n",
    "* To isolate the datetime and number of comments a post got:\n",
    "1. loop through the ask_posts list\n",
    "2. for every iteration we assign the number of comments to the integer of the row index 4\n",
    "3. assign the datetime to every row at index -1\n",
    "4. create two empty dictionaries, counts by hour and comments by hour \n",
    "5. loop through the results_list and for every iteration \n",
    "6. create a datetime object and parse it using the .strptime method to convert the date string to an object \n",
    "7. conver the datetime object to an hour string using the .strftime method \n",
    "8. if the hour is not in counts by hours, we set it equal to 1, else, increment by 1\n",
    "9. if the hour is not in comments by hour, we set it equal to the number of comments, else, increment by the number of comments "
   ]
  },
  {
   "cell_type": "code",
   "execution_count": null,
   "metadata": {
    "collapsed": false
   },
   "outputs": [],
   "source": [
    "import datetime as dt\n",
    "\n",
    "result_list = []\n",
    " \n",
    "for every_row in ask_posts:\n",
    "    num_comments = int(every_row[4])\n",
    "    date = every_row[-1]\n",
    "    result_list.append([date, num_comments])\n",
    "    \n",
    "    \n",
    "counts_by_hour = {}\n",
    "comments_by_hour = {}\n",
    "\n",
    "for every_row in result_list:\n",
    "    time = dt.datetime.strptime(every_row[0], '%m/%d/%Y %H:%M')\n",
    "    hour = time.strftime('%H')\n",
    "    if hour not in counts_by_hour:\n",
    "        counts_by_hour[hour] = 1\n",
    "        comments_by_hour[hour] = every_row[1]\n",
    "    else:\n",
    "        counts_by_hour[hour] += 1\n",
    "        comments_by_hour[hour] += every_row[1]\n"
   ]
  },
  {
   "cell_type": "markdown",
   "metadata": {},
   "source": [
    "Now we create a new empty list avg by hour. we loop through the comments per hour dictionary, and for every iteration we append the avg by hour list with the avg comments for that hour and the hour. \n",
    "Essentially we created a list of lists"
   ]
  },
  {
   "cell_type": "code",
   "execution_count": 34,
   "metadata": {
    "collapsed": false
   },
   "outputs": [
    {
     "data": {
      "text/plain": [
       "[[10.09, '05'],\n",
       " [7.17, '04'],\n",
       " [16.01, '21'],\n",
       " [7.85, '07'],\n",
       " [13.44, '10'],\n",
       " [16.8, '16'],\n",
       " [9.41, '12'],\n",
       " [14.74, '13'],\n",
       " [38.59, '15'],\n",
       " [8.13, '00'],\n",
       " [10.25, '08'],\n",
       " [6.75, '22'],\n",
       " [9.02, '06'],\n",
       " [13.2, '18'],\n",
       " [13.23, '14'],\n",
       " [11.46, '17'],\n",
       " [5.58, '09'],\n",
       " [10.8, '19'],\n",
       " [11.38, '01'],\n",
       " [11.05, '11'],\n",
       " [21.52, '20'],\n",
       " [23.81, '02'],\n",
       " [7.8, '03'],\n",
       " [7.99, '23']]"
      ]
     },
     "execution_count": 34,
     "metadata": {},
     "output_type": "execute_result"
    }
   ],
   "source": [
    "avg_by_hour = []\n",
    "\n",
    "for hour in comments_by_hour:\n",
    "    avg_by_hour.append([round(comments_by_hour[hour] / counts_by_hour[hour], 2), hour])\n",
    "    \n",
    "avg_by_hour"
   ]
  },
  {
   "cell_type": "markdown",
   "metadata": {},
   "source": [
    "Now we sort the list created in descending order to see which hours recieved the most comments. Since the times are in eastern and we live in central time, we subtract an hour from each and have our top 5 times to post:"
   ]
  },
  {
   "cell_type": "code",
   "execution_count": null,
   "metadata": {
    "collapsed": false
   },
   "outputs": [],
   "source": [
    "sorted_avg = sorted(avg_by_hour, reverse = True)\n",
    "\n",
    "print ('Top 5 Hours for Ask HN Posts Comments')\n",
    "\n",
    "\n",
    "for every_row in sorted_avg:\n",
    "    hour = dt.datetime.strptime(every_row[1], \"%H\")\n",
    "    hour = hour.strftime('%H:%M')\n",
    "    avg_comments = every_row[0]\n",
    "    print ('{}: {} average comments per post'.format(hour, avg_comments))\n",
    "    "
   ]
  },
  {
   "cell_type": "markdown",
   "metadata": {},
   "source": [
    "Now we could figure out if ask or show posts recieve more points on average"
   ]
  },
  {
   "cell_type": "code",
   "execution_count": null,
   "metadata": {
    "collapsed": false
   },
   "outputs": [],
   "source": [
    "total_ask_points = 0\n",
    "total_show_points = 0\n",
    "\n",
    "for every_row in ask_posts:\n",
    "    num_points = every_row[3]\n",
    "    total_ask_points += int(num_points)\n",
    "\n",
    "for every_row in show_posts:\n",
    "    num_points = every_row[3]\n",
    "    total_show_points += int(num_points)\n",
    "\n",
    "avg_ask_points = round(total_ask_points / len (ask_posts),2) \n",
    "\n",
    "avg_show_points = round(total_show_points / len (show_posts),2) \n",
    "\n",
    "print (\"Ask HN recieved {} points on average\". format(avg_ask_points))\n",
    "print ('\\n')\n",
    "print (\"Show HN recieved {} points on average\". format(avg_show_points)) \n",
    "print (avg_ask_points - avg_show_points)"
   ]
  },
  {
   "cell_type": "markdown",
   "metadata": {},
   "source": [
    "WE can see that show hn posts recieved 12.5 more points on average than ask hn.\n",
    "\n",
    "Determine if posts created at a certain time are more likely to receive more points. Since show HN recieved more points on average, i'll only be using that."
   ]
  },
  {
   "cell_type": "code",
   "execution_count": null,
   "metadata": {
    "collapsed": true
   },
   "outputs": [],
   "source": []
  },
  {
   "cell_type": "code",
   "execution_count": null,
   "metadata": {
    "collapsed": false
   },
   "outputs": [],
   "source": [
    "show_points_time = {}\n",
    "\n",
    "for every_row in show_posts:\n",
    "    num_points = int(every_row[3])\n",
    "    date = every_row[-1]\n",
    "    datetime = dt.datetime.strptime(date,\"%m/%d/%Y %H:%M\")\n",
    "    hour = datetime.strftime('%H')\n",
    "    if hour not in show_points_time:\n",
    "        show_points_time[hour] = num_points\n",
    "    else:\n",
    "        show_points_time[hour] += num_points\n",
    "show_points_time"
   ]
  },
  {
   "cell_type": "code",
   "execution_count": null,
   "metadata": {
    "collapsed": false
   },
   "outputs": [],
   "source": [
    "sorted_list = []\n",
    "\n",
    "for every_key in show_points_time:\n",
    "    hour = every_key\n",
    "    points = show_points_time[every_key]\n",
    "    sorted_list.append([round(points / counts_by_hour[every_key],2), hour])\n",
    "    \n",
    "sorted_list = sorted(sorted_list, reverse = True)\n",
    "sorted_list"
   ]
  },
  {
   "cell_type": "markdown",
   "metadata": {},
   "source": [
    "By my analysis, posts at 12 pm, 1 pm, 10 pm, 11 am and 5 pm receive the most points.\n",
    "\n",
    "By previous analysis, posts at 05 am, 4 am, 9 pm, 7 am, and 10 am receive the most comments"
   ]
  },
  {
   "cell_type": "markdown",
   "metadata": {},
   "source": []
  }
 ],
 "metadata": {
  "kernelspec": {
   "display_name": "Python 3",
   "language": "python",
   "name": "python3"
  },
  "language_info": {
   "codemirror_mode": {
    "name": "ipython",
    "version": 3
   },
   "file_extension": ".py",
   "mimetype": "text/x-python",
   "name": "python",
   "nbconvert_exporter": "python",
   "pygments_lexer": "ipython3",
   "version": "3.4.3"
  }
 },
 "nbformat": 4,
 "nbformat_minor": 2
}
